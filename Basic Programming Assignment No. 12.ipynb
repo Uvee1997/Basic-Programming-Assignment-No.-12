{
 "cells": [
  {
   "cell_type": "code",
   "execution_count": null,
   "id": "fd799d75",
   "metadata": {},
   "outputs": [],
   "source": [
    "1) Write Python Program to extract unique values dictionary values ?"
   ]
  },
  {
   "cell_type": "code",
   "execution_count": 7,
   "id": "bc0f47fa",
   "metadata": {},
   "outputs": [
    {
     "name": "stdout",
     "output_type": "stream",
     "text": [
      "The original dictionary is:  {'A': [1, 2, 3, 4], 'B': [4, 10, 6, 8], 'C': [6, 12, 4, 8], 'D': [5, 7, 2]}\n",
      "The unique values list is:  [1, 2, 3, 4, 5, 6, 7, 8, 10, 12]\n"
     ]
    }
   ],
   "source": [
    "dict = { 'A':[1,2,3,4],\n",
    "         'B':[4,10,6,8],\n",
    "         'C':[6,12,4,8],\n",
    "         'D':[5,7,2]}\n",
    "        \n",
    "print(\"The original dictionary is: \",dict)\n",
    "res = list(sorted({ele for val in dict.values() for ele in val}))\n",
    "print(\"The unique values list is: \",res)\n",
    "    "
   ]
  },
  {
   "cell_type": "code",
   "execution_count": null,
   "id": "da63c193",
   "metadata": {},
   "outputs": [],
   "source": [
    "2) Write a Python program to find the sum of all items in a dictionary ?"
   ]
  },
  {
   "cell_type": "code",
   "execution_count": 8,
   "id": "9ba5321e",
   "metadata": {},
   "outputs": [
    {
     "name": "stdout",
     "output_type": "stream",
     "text": [
      "Dictionary {'A': 10, 'B': 12, 'C': 14, 'D': 16}\n",
      "sum:  52\n"
     ]
    }
   ],
   "source": [
    "dict1 = {\"A\":10, \"B\":12, \"C\":14, \"D\":16}\n",
    "print(\"Dictionary\",dict1)\n",
    "print(\"sum: \",sum(dict1.values()))"
   ]
  },
  {
   "cell_type": "code",
   "execution_count": null,
   "id": "d5f8a809",
   "metadata": {},
   "outputs": [],
   "source": [
    "3) Write Python Program to Merging two Dictionaries?"
   ]
  },
  {
   "cell_type": "code",
   "execution_count": 9,
   "id": "eab7de19",
   "metadata": {},
   "outputs": [
    {
     "name": "stdout",
     "output_type": "stream",
     "text": [
      "{'A': 10, 'B': 10, 'C': 45, 'P': 7, 'Q': 8, 'R': 9}\n"
     ]
    }
   ],
   "source": [
    "dict1 = {\"A\":10, \"B\":10, \"C\":45}\n",
    "dict2 = {\"P\":7, \"Q\":8, \"R\":9}\n",
    "print({**dict1,**dict2})"
   ]
  },
  {
   "cell_type": "code",
   "execution_count": null,
   "id": "2bf2b482",
   "metadata": {},
   "outputs": [],
   "source": [
    "4) Write a Python program to convert key-values list to flat dictionary ?"
   ]
  },
  {
   "cell_type": "code",
   "execution_count": null,
   "id": "1e4667bb",
   "metadata": {},
   "outputs": [],
   "source": [
    "dic = {\"Day\":[1,2,3], \"Name\":[\"Mon\",\"Tues\",\"Wed\"]}\n",
    "print(\"original dictionary: \",dic)\n",
    "\n",
    "f_dic = dic(zip(dic[\"Day\"], dic[\"Name\"]))\n",
    "print(\"Flattened Dictionary: \",f_dic)"
   ]
  },
  {
   "cell_type": "code",
   "execution_count": null,
   "id": "0a0a9678",
   "metadata": {},
   "outputs": [],
   "source": [
    "5) Write a Python program to insertion at the beginning in OrderedDict ?"
   ]
  },
  {
   "cell_type": "code",
   "execution_count": null,
   "id": "47c1b808",
   "metadata": {},
   "outputs": [],
   "source": [
    "from collections import OrderedDict\n",
    "dict1 = OrderedDict([('A','100'),('B','200'),('C','300')])\n",
    "dict2 = OrderedDict([('D','400')])\n",
    "\n",
    "final = OrderedDict(list(insert.items()) + list(dict1.items()))\n",
    "print(\"Resultant Dictionary: \")\n",
    "print(final)"
   ]
  },
  {
   "cell_type": "code",
   "execution_count": null,
   "id": "2ce94d3d",
   "metadata": {},
   "outputs": [],
   "source": [
    "6) Write a Python program to check order of character in string using OrderedDict() ?"
   ]
  },
  {
   "cell_type": "code",
   "execution_count": null,
   "id": "e5b796cf",
   "metadata": {},
   "outputs": [],
   "source": [
    "from collections import OrderedDict\n",
    "\n",
    "def checkOrder(input, pattern):\n",
    "    dict = OrderedDict.fromkeys(input)\n",
    "\n",
    "\n",
    "    ptrlen = 0\n",
    "    for key,value in dict.items():\n",
    "        if (key == pattern[ptrlen]):\n",
    "            ptrlen = ptrlen + 1\n",
    "\n",
    "\n",
    "    if (ptrlen == (len(pattern))):\n",
    "        return 'true'\n",
    "\n",
    "\n",
    "\n",
    "    return 'false'\n",
    "\n",
    "\n",
    "if __name__ == \"__main__\":\n",
    "    input = 'engineers rock'\n",
    "    pattern = 'egr'\n",
    "    print (checkOrder(input,pattern))\n"
   ]
  },
  {
   "cell_type": "code",
   "execution_count": null,
   "id": "7ce421f8",
   "metadata": {},
   "outputs": [],
   "source": [
    "7) Write a Python program to sort Python Dictionaries by Key or Value ?"
   ]
  },
  {
   "cell_type": "code",
   "execution_count": null,
   "id": "564be511",
   "metadata": {},
   "outputs": [],
   "source": [
    "key_values={}\n",
    "\n",
    "key_value[5] = 10\n",
    "key_value[3] = 8\n",
    "key_value[6] = 77\n",
    "key_value[4] = 23\n",
    "key_value[2] = 9\n",
    "key_value[1] = 43\n",
    "\n",
    "print(\"sorting on the basis of keys\")\n",
    "\n",
    "for i in sorted(key_value):\n",
    "    print((i, key_value[i], end = \" \"))\n"
   ]
  }
 ],
 "metadata": {
  "kernelspec": {
   "display_name": "Python 3 (ipykernel)",
   "language": "python",
   "name": "python3"
  },
  "language_info": {
   "codemirror_mode": {
    "name": "ipython",
    "version": 3
   },
   "file_extension": ".py",
   "mimetype": "text/x-python",
   "name": "python",
   "nbconvert_exporter": "python",
   "pygments_lexer": "ipython3",
   "version": "3.9.7"
  }
 },
 "nbformat": 4,
 "nbformat_minor": 5
}
